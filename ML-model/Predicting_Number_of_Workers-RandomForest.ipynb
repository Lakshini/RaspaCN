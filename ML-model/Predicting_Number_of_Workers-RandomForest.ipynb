{
 "cells": [
  {
   "cell_type": "code",
   "execution_count": 1,
   "metadata": {
    "collapsed": true
   },
   "outputs": [],
   "source": [
    "from __future__ import print_function\n",
    "from __future__ import division\n",
    "\n",
    "%matplotlib inline\n",
    "\n",
    "import pandas as pd\n",
    "import numpy as np\n",
    "import seaborn as sns\n",
    "import statsmodels.api as sm\n",
    "import xgboost as xgb\n",
    "\n",
    "from sklearn import tree\n",
    "from sklearn.ensemble import RandomForestRegressor\n",
    "from matplotlib import pyplot as plt\n",
    "from sklearn.model_selection import train_test_split\n",
    "from sklearn.ensemble import GradientBoostingClassifier, RandomForestClassifier\n",
    "from sklearn.model_selection import KFold\n",
    "from sklearn.metrics import mean_squared_error\n",
    "from sklearn.preprocessing import StandardScaler\n",
    "from sklearn.pipeline import Pipeline\n",
    "#from sklearn_pmml_model.ensemble import PMMLForestClassifier\n",
    "\n",
    "# just for the sake of this blog post!\n",
    "from warnings import filterwarnings\n",
    "filterwarnings('ignore')"
   ]
  },
  {
   "cell_type": "code",
   "execution_count": 2,
   "metadata": {
    "collapsed": true
   },
   "outputs": [],
   "source": [
    "df =pd.read_csv('./dataset_full.csv')"
   ]
  },
  {
   "cell_type": "code",
   "execution_count": 3,
   "metadata": {},
   "outputs": [
    {
     "data": {
      "text/html": [
       "<div>\n",
       "<style scoped>\n",
       "    .dataframe tbody tr th:only-of-type {\n",
       "        vertical-align: middle;\n",
       "    }\n",
       "\n",
       "    .dataframe tbody tr th {\n",
       "        vertical-align: top;\n",
       "    }\n",
       "\n",
       "    .dataframe thead th {\n",
       "        text-align: right;\n",
       "    }\n",
       "</style>\n",
       "<table border=\"1\" class=\"dataframe\">\n",
       "  <thead>\n",
       "    <tr style=\"text-align: right;\">\n",
       "      <th></th>\n",
       "      <th>Number_of_Workers</th>\n",
       "      <th>Number_of_partial_siddhi_apps</th>\n",
       "      <th>DataRate</th>\n",
       "      <th>No of String Attributes in input Stream</th>\n",
       "      <th>No of float Attributes in input Stream</th>\n",
       "      <th>No of double Attributes in input Stream</th>\n",
       "      <th>No of int Attributes in input Stream</th>\n",
       "      <th>No of long Attributes in input Stream</th>\n",
       "      <th>ExternalTmeWindowSize(Sec)</th>\n",
       "      <th>ExternalTimeBatch</th>\n",
       "      <th>...</th>\n",
       "      <th>Aggregation function</th>\n",
       "      <th>In built functions</th>\n",
       "      <th>No of Select Operations</th>\n",
       "      <th>No of Insert Operators</th>\n",
       "      <th>No of From operators</th>\n",
       "      <th>Inner Streams</th>\n",
       "      <th>No of string extensions</th>\n",
       "      <th>No of email processor extensions</th>\n",
       "      <th>No of filter conditions</th>\n",
       "      <th>Throughput</th>\n",
       "    </tr>\n",
       "  </thead>\n",
       "  <tbody>\n",
       "    <tr>\n",
       "      <th>0</th>\n",
       "      <td>3</td>\n",
       "      <td>3</td>\n",
       "      <td>3</td>\n",
       "      <td>4</td>\n",
       "      <td>7</td>\n",
       "      <td>2</td>\n",
       "      <td>1</td>\n",
       "      <td>2</td>\n",
       "      <td>30</td>\n",
       "      <td>0</td>\n",
       "      <td>...</td>\n",
       "      <td>3</td>\n",
       "      <td>3</td>\n",
       "      <td>4</td>\n",
       "      <td>4</td>\n",
       "      <td>4</td>\n",
       "      <td>2</td>\n",
       "      <td>0</td>\n",
       "      <td>0</td>\n",
       "      <td>1</td>\n",
       "      <td>209.105079</td>\n",
       "    </tr>\n",
       "    <tr>\n",
       "      <th>1</th>\n",
       "      <td>3</td>\n",
       "      <td>6</td>\n",
       "      <td>3</td>\n",
       "      <td>4</td>\n",
       "      <td>7</td>\n",
       "      <td>2</td>\n",
       "      <td>1</td>\n",
       "      <td>2</td>\n",
       "      <td>30</td>\n",
       "      <td>0</td>\n",
       "      <td>...</td>\n",
       "      <td>3</td>\n",
       "      <td>3</td>\n",
       "      <td>4</td>\n",
       "      <td>4</td>\n",
       "      <td>4</td>\n",
       "      <td>2</td>\n",
       "      <td>0</td>\n",
       "      <td>0</td>\n",
       "      <td>1</td>\n",
       "      <td>403.098494</td>\n",
       "    </tr>\n",
       "    <tr>\n",
       "      <th>2</th>\n",
       "      <td>3</td>\n",
       "      <td>9</td>\n",
       "      <td>3</td>\n",
       "      <td>4</td>\n",
       "      <td>7</td>\n",
       "      <td>2</td>\n",
       "      <td>1</td>\n",
       "      <td>2</td>\n",
       "      <td>30</td>\n",
       "      <td>0</td>\n",
       "      <td>...</td>\n",
       "      <td>3</td>\n",
       "      <td>3</td>\n",
       "      <td>4</td>\n",
       "      <td>4</td>\n",
       "      <td>4</td>\n",
       "      <td>2</td>\n",
       "      <td>0</td>\n",
       "      <td>0</td>\n",
       "      <td>1</td>\n",
       "      <td>515.373114</td>\n",
       "    </tr>\n",
       "    <tr>\n",
       "      <th>3</th>\n",
       "      <td>3</td>\n",
       "      <td>18</td>\n",
       "      <td>3</td>\n",
       "      <td>4</td>\n",
       "      <td>7</td>\n",
       "      <td>2</td>\n",
       "      <td>1</td>\n",
       "      <td>2</td>\n",
       "      <td>30</td>\n",
       "      <td>0</td>\n",
       "      <td>...</td>\n",
       "      <td>3</td>\n",
       "      <td>3</td>\n",
       "      <td>4</td>\n",
       "      <td>4</td>\n",
       "      <td>4</td>\n",
       "      <td>2</td>\n",
       "      <td>0</td>\n",
       "      <td>0</td>\n",
       "      <td>1</td>\n",
       "      <td>717.240405</td>\n",
       "    </tr>\n",
       "    <tr>\n",
       "      <th>4</th>\n",
       "      <td>4</td>\n",
       "      <td>4</td>\n",
       "      <td>3</td>\n",
       "      <td>4</td>\n",
       "      <td>7</td>\n",
       "      <td>2</td>\n",
       "      <td>1</td>\n",
       "      <td>2</td>\n",
       "      <td>30</td>\n",
       "      <td>0</td>\n",
       "      <td>...</td>\n",
       "      <td>3</td>\n",
       "      <td>3</td>\n",
       "      <td>4</td>\n",
       "      <td>4</td>\n",
       "      <td>4</td>\n",
       "      <td>2</td>\n",
       "      <td>0</td>\n",
       "      <td>0</td>\n",
       "      <td>1</td>\n",
       "      <td>245.984533</td>\n",
       "    </tr>\n",
       "  </tbody>\n",
       "</table>\n",
       "<p>5 rows × 23 columns</p>\n",
       "</div>"
      ],
      "text/plain": [
       "   Number_of_Workers  Number_of_partial_siddhi_apps  DataRate  \\\n",
       "0                  3                              3         3   \n",
       "1                  3                              6         3   \n",
       "2                  3                              9         3   \n",
       "3                  3                             18         3   \n",
       "4                  4                              4         3   \n",
       "\n",
       "   No of String Attributes in input Stream  \\\n",
       "0                                        4   \n",
       "1                                        4   \n",
       "2                                        4   \n",
       "3                                        4   \n",
       "4                                        4   \n",
       "\n",
       "   No of float Attributes in input Stream  \\\n",
       "0                                       7   \n",
       "1                                       7   \n",
       "2                                       7   \n",
       "3                                       7   \n",
       "4                                       7   \n",
       "\n",
       "   No of double Attributes in input Stream  \\\n",
       "0                                        2   \n",
       "1                                        2   \n",
       "2                                        2   \n",
       "3                                        2   \n",
       "4                                        2   \n",
       "\n",
       "   No of int Attributes in input Stream  \\\n",
       "0                                     1   \n",
       "1                                     1   \n",
       "2                                     1   \n",
       "3                                     1   \n",
       "4                                     1   \n",
       "\n",
       "   No of long Attributes in input Stream  ExternalTmeWindowSize(Sec)  \\\n",
       "0                                      2                          30   \n",
       "1                                      2                          30   \n",
       "2                                      2                          30   \n",
       "3                                      2                          30   \n",
       "4                                      2                          30   \n",
       "\n",
       "   ExternalTimeBatch  ...  Aggregation function  In built functions  \\\n",
       "0                  0  ...                     3                   3   \n",
       "1                  0  ...                     3                   3   \n",
       "2                  0  ...                     3                   3   \n",
       "3                  0  ...                     3                   3   \n",
       "4                  0  ...                     3                   3   \n",
       "\n",
       "   No of Select Operations  No of Insert Operators  No of From operators  \\\n",
       "0                        4                       4                     4   \n",
       "1                        4                       4                     4   \n",
       "2                        4                       4                     4   \n",
       "3                        4                       4                     4   \n",
       "4                        4                       4                     4   \n",
       "\n",
       "   Inner Streams  No of string extensions  No of email processor extensions  \\\n",
       "0              2                        0                                 0   \n",
       "1              2                        0                                 0   \n",
       "2              2                        0                                 0   \n",
       "3              2                        0                                 0   \n",
       "4              2                        0                                 0   \n",
       "\n",
       "   No of filter conditions  Throughput  \n",
       "0                        1  209.105079  \n",
       "1                        1  403.098494  \n",
       "2                        1  515.373114  \n",
       "3                        1  717.240405  \n",
       "4                        1  245.984533  \n",
       "\n",
       "[5 rows x 23 columns]"
      ]
     },
     "execution_count": 3,
     "metadata": {},
     "output_type": "execute_result"
    }
   ],
   "source": [
    "df.head()"
   ]
  },
  {
   "cell_type": "code",
   "execution_count": 4,
   "metadata": {},
   "outputs": [
    {
     "name": "stdout",
     "output_type": "stream",
     "text": [
      "Mean: 423.4127451463784\n",
      "Variance: 55404.55703293984\n"
     ]
    }
   ],
   "source": [
    "print('Mean:',df['Throughput'].mean())\n",
    "print('Variance:',df['Throughput'].var())"
   ]
  },
  {
   "cell_type": "code",
   "execution_count": 5,
   "metadata": {},
   "outputs": [
    {
     "data": {
      "text/plain": [
       "<matplotlib.axes._subplots.AxesSubplot at 0x7fc4883687b8>"
      ]
     },
     "execution_count": 5,
     "metadata": {},
     "output_type": "execute_result"
    },
    {
     "data": {
      "image/png": "[encoded data removed]",
      "text/plain": [
       "<Figure size 432x288 with 1 Axes>"
      ]
     },
     "metadata": {
      "needs_background": "light"
     },
     "output_type": "display_data"
    }
   ],
   "source": [
    "df['Throughput'].hist()"
   ]
  },
  {
   "cell_type": "code",
   "execution_count": 6,
   "metadata": {
    "collapsed": true
   },
   "outputs": [],
   "source": [
    "correlations = df.corr()"
   ]
  },
  {
   "cell_type": "code",
   "execution_count": 7,
   "metadata": {},
   "outputs": [
    {
     "data": {
      "text/plain": [
       "Text(0.5, 1.0, 'Logprocessor3 Variable Correlations')"
      ]
     },
     "execution_count": 7,
     "metadata": {},
     "output_type": "execute_result"
    },
    {
     "data": {
      "image/png": "[encoded data removed]",
      "text/plain": [
       "<Figure size 432x288 with 2 Axes>"
      ]
     },
     "metadata": {
      "needs_background": "light"
     },
     "output_type": "display_data"
    }
   ],
   "source": [
    "# plot logprocessor\n",
    "corr_heat = sns.heatmap(correlations)\n",
    "plt.title('Logprocessor3 Variable Correlations')"
   ]
  },
  {
   "cell_type": "code",
   "execution_count": 8,
   "metadata": {},
   "outputs": [
    {
     "data": {
      "text/plain": [
       "<matplotlib.axes._subplots.AxesSubplot at 0x7fc487eed278>"
      ]
     },
     "execution_count": 8,
     "metadata": {},
     "output_type": "execute_result"
    },
    {
     "data": {
      "image/png": "[encoded data removed]",
      "text/plain": [
       "<Figure size 432x288 with 1 Axes>"
      ]
     },
     "metadata": {
      "needs_background": "light"
     },
     "output_type": "display_data"
    }
   ],
   "source": [
    "# San Juan\n",
    "(correlations\n",
    "     .Throughput\n",
    "     .drop('Throughput') # don't compare with myself\n",
    "     .sort_values(ascending=False)\n",
    "     .plot\n",
    "     .barh())"
   ]
  },
  {
   "cell_type": "code",
   "execution_count": 9,
   "metadata": {
    "collapsed": true
   },
   "outputs": [],
   "source": [
    "def preprocess_data(data_path, labels_path=None):\n",
    "    df = pd.read_csv(data_path)\n",
    "    All_features = ['Number_of_Workers',\n",
    "'Number_of_partial_siddhi_apps',\n",
    "'DataRate',\n",
    "'No of String Attributes in input Stream',\n",
    "'No of float Attributes in input Stream',\n",
    "'No of int Attributes in input Stream',\n",
    "'No of long Attributes in input Stream',\n",
    "'ExternalTimeBatch',\n",
    "'TimeBatch',\n",
    "'Integer operators',\n",
    "'Aggregation function',\n",
    "'In built functions',\n",
    "'No of Select Operations',\n",
    "'No of Insert Operators',\n",
    "'No of From operators',\n",
    "'Inner Streams',\n",
    "'No of string extensions',\n",
    "'No of email processor extensions',\n",
    "'No of filter conditions'\n",
    "]\n",
    "    # select features we want\n",
    "    features = ['Number_of_Workers',\n",
    "'Number_of_partial_siddhi_apps',\n",
    "'DataRate',\n",
    "'No of String Attributes in input Stream',\n",
    "'No of float Attributes in input Stream'\n",
    "]\n",
    "    df = df[features]\n",
    "# fill missing values\n",
    "    df.fillna(method='ffill', inplace=True)\n",
    "\n",
    "    # add labels to dataframe\n",
    "    if labels_path:\n",
    "        labels = pd.read_csv(labels_path)\n",
    "        return df,labels\n",
    "        #df = df.join(labels)\n",
    "    \n",
    "    return df"
   ]
  },
  {
   "cell_type": "code",
   "execution_count": 10,
   "metadata": {
    "collapsed": true
   },
   "outputs": [],
   "source": [
    "df,labels = preprocess_data('./dataset_full.csv','./labels_full.csv')\n"
   ]
  },
  {
   "cell_type": "code",
   "execution_count": 11,
   "metadata": {
    "collapsed": true
   },
   "outputs": [],
   "source": [
    "X_train, X_test, y_train, y_test = train_test_split(df, labels, test_size=0.2, random_state=143)"
   ]
  },
  {
   "cell_type": "code",
   "execution_count": 12,
   "metadata": {
    "collapsed": true
   },
   "outputs": [],
   "source": [
    "# Labels are the values we want to predict\n",
    "labels = np.array(labels)"
   ]
  },
  {
   "cell_type": "code",
   "execution_count": 13,
   "metadata": {
    "collapsed": true
   },
   "outputs": [],
   "source": [
    "features = np.array(df)"
   ]
  },
  {
   "cell_type": "code",
   "execution_count": 14,
   "metadata": {
    "collapsed": true
   },
   "outputs": [],
   "source": [
    "# Split the data into training and testing sets\n",
    "train_features, test_features, train_labels, test_labels = train_test_split(features, labels, test_size = 0.2, random_state = 160)"
   ]
  },
  {
   "cell_type": "code",
   "execution_count": 15,
   "metadata": {},
   "outputs": [
    {
     "name": "stdout",
     "output_type": "stream",
     "text": [
      "Training Features Shape: (29, 5)\n",
      "Training Labels Shape: (29, 1)\n",
      "Testing Features Shape: (8, 5)\n",
      "Testing Labels Shape: (8, 1)\n"
     ]
    }
   ],
   "source": [
    "print('Training Features Shape:', train_features.shape)\n",
    "print('Training Labels Shape:', train_labels.shape)\n",
    "print('Testing Features Shape:', test_features.shape)\n",
    "print('Testing Labels Shape:', test_labels.shape)"
   ]
  },
  {
   "cell_type": "code",
   "execution_count": 16,
   "metadata": {
    "collapsed": true
   },
   "outputs": [],
   "source": [
    "# Instantiate model with 1000 decision trees\n",
    "rf = RandomForestRegressor(n_estimators=1000, max_depth=10,random_state=50)\n",
    "# Train the model on training data\n",
    "rf.fit(train_features, train_labels);"
   ]
  },
  {
   "cell_type": "code",
   "execution_count": 17,
   "metadata": {
    "collapsed": true
   },
   "outputs": [],
   "source": [
    "predictions_random_forest = rf.predict(test_features)\n",
    "from nyoka import skl_to_pmml"
   ]
  },
  {
   "cell_type": "code",
   "execution_count": 18,
   "metadata": {
    "collapsed": true
   },
   "outputs": [],
   "source": [
    "train_labels = pd.DataFrame(train_labels)"
   ]
  },
  {
   "cell_type": "code",
   "execution_count": 19,
   "metadata": {
    "collapsed": true
   },
   "outputs": [],
   "source": [
    "features = ['Number_of_Workers',\n",
    "'Number_of_partial_siddhi_apps',\n",
    "'DataRate',\n",
    "'No of String Attributes in input Stream',\n",
    "'No of float Attributes in input Stream'\n",
    "]\n",
    "\n",
    "target = 'throughput'"
   ]
  },
  {
   "cell_type": "code",
   "execution_count": 20,
   "metadata": {},
   "outputs": [
    {
     "data": {
      "text/plain": [
       "Pipeline(memory=None,\n",
       "         steps=[('scaler',\n",
       "                 StandardScaler(copy=True, with_mean=True, with_std=True)),\n",
       "                ('rfc',\n",
       "                 RandomForestClassifier(bootstrap=True, class_weight=None,\n",
       "                                        criterion='gini', max_depth=10,\n",
       "                                        max_features='auto',\n",
       "                                        max_leaf_nodes=None,\n",
       "                                        min_impurity_decrease=0.0,\n",
       "                                        min_impurity_split=None,\n",
       "                                        min_samples_leaf=1, min_samples_split=2,\n",
       "                                        min_weight_fraction_leaf=0.0,\n",
       "                                        n_estimators=1000, n_jobs=None,\n",
       "                                        oob_score=False, random_state=50,\n",
       "                                        verbose=0, warm_start=False))],\n",
       "         verbose=False)"
      ]
     },
     "execution_count": 20,
     "metadata": {},
     "output_type": "execute_result"
    }
   ],
   "source": [
    "pipeline_obj = Pipeline([\n",
    "    ('scaler', StandardScaler()),\n",
    "    (\"rfc\", RandomForestClassifier(n_estimators=1000, max_depth=10,random_state=50))\n",
    "])\n",
    "pipeline_obj.fit(train_features.astype('int'),train_labels.astype('int'))\n",
    "\n",
    "#from nyoka import skl_to_pmml\n",
    "#skl_to_pmml(pipeline_obj,features,target,\"/home/madushi/Predicting_Number_of_Workers/pmml/random-forest-predictor.pmml\")"
   ]
  },
  {
   "cell_type": "code",
   "execution_count": 21,
   "metadata": {},
   "outputs": [
    {
     "name": "stdout",
     "output_type": "stream",
     "text": [
      "root_mean_squared_error_random_forest: 71.441479\n"
     ]
    }
   ],
   "source": [
    "root_mean_squared_error_random_forest = mean_squared_error(test_labels, predictions_random_forest)**0.5\n",
    "print(\"root_mean_squared_error_random_forest: %f\" % (root_mean_squared_error_random_forest))"
   ]
  },
  {
   "cell_type": "code",
   "execution_count": 22,
   "metadata": {
    "collapsed": true
   },
   "outputs": [],
   "source": [
    "regressor = xgb.XGBRegressor(objective ='reg:linear', colsample_bytree = 1, learning_rate = 1, max_depth = 5, alpha = 10, n_estimators = 1000)\n",
    "regressor.fit(X_train, y_train)\n",
    "\n",
    "predictions_XGBoost = regressor.predict(X_test)\n"
   ]
  },
  {
   "cell_type": "code",
   "execution_count": 23,
   "metadata": {},
   "outputs": [
    {
     "data": {
      "text/plain": [
       "array([[583.1      ],\n",
       "       [618.9809612],\n",
       "       [209.1050792],\n",
       "       [449.9349263],\n",
       "       [254.7509169],\n",
       "       [720.1177737],\n",
       "       [565.9319567],\n",
       "       [545.5287716]])"
      ]
     },
     "execution_count": 23,
     "metadata": {},
     "output_type": "execute_result"
    }
   ],
   "source": [
    "test_labels"
   ]
  },
  {
   "cell_type": "code",
   "execution_count": 24,
   "metadata": {},
   "outputs": [
    {
     "name": "stdout",
     "output_type": "stream",
     "text": [
      "y_pred =  [562.48097473 545.81991924 299.14239545 435.6037678  193.40335822\n",
      " 699.54470493 500.1797894  410.50590226]\n",
      "y_true =  [[583.1      ]\n",
      " [618.9809612]\n",
      " [209.1050792]\n",
      " [449.9349263]\n",
      " [254.7509169]\n",
      " [720.1177737]\n",
      " [565.9319567]\n",
      " [545.5287716]]\n",
      "[0.03536104]\n",
      "[0.15355699]\n",
      "[0.58414106]\n",
      "[0.61599269]\n",
      "[0.85680658]\n",
      "[0.88537561]\n",
      "[1.00155948]\n",
      "[1.24906773]\n",
      "Calculated percentage MAPE = 15.61 %\n"
     ]
    }
   ],
   "source": [
    "def percentage_error(y_true, y_pred):\n",
    "    print(\"y_pred = \",y_pred)\n",
    "    print(\"y_true = \",y_true)\n",
    "    \n",
    "    array_len = len(np.abs(y_true - y_pred))\n",
    "    error_sum = 0\n",
    "    \n",
    "    for i in range(0,array_len,):\n",
    "        error_sum+=(np.abs(y_true - y_pred)[i][i])/y_true[i]\n",
    "        print (error_sum)\n",
    "       # print (array_len)\n",
    "        #print ((error_sum/array_len))\n",
    "    return  (error_sum/array_len)* 100\n",
    "\n",
    "print(\"Calculated percentage MAPE =\",\"%.2f\"%(percentage_error(test_labels, predictions_random_forest)),\"%\")"
   ]
  },
  {
   "cell_type": "code",
   "execution_count": 25,
   "metadata": {},
   "outputs": [
    {
     "name": "stdout",
     "output_type": "stream",
     "text": [
      "y_pred =  [562.48097473 545.81991924 299.14239545 435.6037678  193.40335822\n",
      " 699.54470493 500.1797894  410.50590226]\n",
      "y_true =  [[583.1      ]\n",
      " [618.9809612]\n",
      " [209.1050792]\n",
      " [449.9349263]\n",
      " [254.7509169]\n",
      " [720.1177737]\n",
      " [565.9319567]\n",
      " [545.5287716]]\n",
      "[0.03536104]\n",
      "[0.15355699]\n",
      "[0.58414106]\n",
      "[0.61599269]\n",
      "[0.85680658]\n",
      "[0.88537561]\n",
      "[1.00155948]\n",
      "[1.24906773]\n",
      "Accuracy = 84.39 %\n"
     ]
    }
   ],
   "source": [
    "print(\"Accuracy =\",\"%.2f\"% (100-percentage_error(test_labels, predictions_random_forest)),\"%\")"
   ]
  },
  {
   "cell_type": "code",
   "execution_count": 26,
   "metadata": {
    "collapsed": true
   },
   "outputs": [],
   "source": [
    "#predict throughput for a sample dataset\n",
    "sample_test = preprocess_data('./Sample.csv')"
   ]
  },
  {
   "cell_type": "code",
   "execution_count": 27,
   "metadata": {
    "collapsed": true
   },
   "outputs": [],
   "source": [
    "predictions_random_forest_sample = rf.predict(np.array(sample_test))"
   ]
  },
  {
   "cell_type": "code",
   "execution_count": 28,
   "metadata": {},
   "outputs": [
    {
     "data": {
      "text/plain": [
       "array([473.65037549, 473.65037549, 473.65037549, 473.65037549,\n",
       "       482.05094993, 474.58459298, 577.88614819, 577.88614819,\n",
       "       577.88614819, 466.15977725, 408.85185311, 559.76289958,\n",
       "       559.76289958, 581.32518116, 581.32518116, 581.32518116,\n",
       "       475.77945425, 482.05094993, 473.65037549, 577.88614819,\n",
       "       559.76289958, 473.65037549, 577.88614819, 559.76289958,\n",
       "       473.65037549, 408.85185311, 577.88614819, 473.65037549,\n",
       "       577.88614819, 559.76289958, 473.65037549, 577.88614819,\n",
       "       559.76289958, 408.85185311, 482.05094993, 474.58459298,\n",
       "       577.88614819])"
      ]
     },
     "execution_count": 28,
     "metadata": {},
     "output_type": "execute_result"
    }
   ],
   "source": [
    "test_probs_sample =predictions_random_forest_sample\n",
    "test_probs_sample"
   ]
  },
  {
   "cell_type": "code",
   "execution_count": 29,
   "metadata": {
    "collapsed": true
   },
   "outputs": [],
   "source": [
    "sample_test['Throughput']=test_probs_sample"
   ]
  },
  {
   "cell_type": "code",
   "execution_count": 30,
   "metadata": {},
   "outputs": [
    {
     "data": {
      "text/html": [
       "<div>\n",
       "<style scoped>\n",
       "    .dataframe tbody tr th:only-of-type {\n",
       "        vertical-align: middle;\n",
       "    }\n",
       "\n",
       "    .dataframe tbody tr th {\n",
       "        vertical-align: top;\n",
       "    }\n",
       "\n",
       "    .dataframe thead th {\n",
       "        text-align: right;\n",
       "    }\n",
       "</style>\n",
       "<table border=\"1\" class=\"dataframe\">\n",
       "  <thead>\n",
       "    <tr style=\"text-align: right;\">\n",
       "      <th></th>\n",
       "      <th>Throughput</th>\n",
       "    </tr>\n",
       "  </thead>\n",
       "  <tbody>\n",
       "    <tr>\n",
       "      <th>0</th>\n",
       "      <td>473.650375</td>\n",
       "    </tr>\n",
       "    <tr>\n",
       "      <th>1</th>\n",
       "      <td>473.650375</td>\n",
       "    </tr>\n",
       "    <tr>\n",
       "      <th>2</th>\n",
       "      <td>473.650375</td>\n",
       "    </tr>\n",
       "    <tr>\n",
       "      <th>3</th>\n",
       "      <td>473.650375</td>\n",
       "    </tr>\n",
       "    <tr>\n",
       "      <th>4</th>\n",
       "      <td>482.050950</td>\n",
       "    </tr>\n",
       "  </tbody>\n",
       "</table>\n",
       "</div>"
      ],
      "text/plain": [
       "   Throughput\n",
       "0  473.650375\n",
       "1  473.650375\n",
       "2  473.650375\n",
       "3  473.650375\n",
       "4  482.050950"
      ]
     },
     "execution_count": 30,
     "metadata": {},
     "output_type": "execute_result"
    }
   ],
   "source": [
    "sample_test[['Throughput']].head()"
   ]
  },
  {
   "cell_type": "code",
   "execution_count": 31,
   "metadata": {
    "collapsed": true
   },
   "outputs": [],
   "source": [
    "#print the result to the csv file\n",
    "sample_test.to_csv(\"./Sample_Output.csv\")"
   ]
  }
 ],
 "metadata": {
  "kernelspec": {
   "display_name": "DengiAI",
   "language": "python",
   "name": "dengai"
  },
  "language_info": {
   "codemirror_mode": {
    "name": "ipython",
    "version": 3
   },
   "file_extension": ".py",
   "mimetype": "text/x-python",
   "name": "python",
   "nbconvert_exporter": "python",
   "pygments_lexer": "ipython3",
   "version": "3.7.3"
  }
 },
 "nbformat": 4,
 "nbformat_minor": 2
}
